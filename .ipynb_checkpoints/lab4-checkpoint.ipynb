{
 "cells": [
  {
   "cell_type": "markdown",
   "metadata": {},
   "source": [
    "# Lab 4: Data analysis with Python\n",
    "In this lab you work on applying your new Python skills to work with data - finally!\n",
    "\n",
    "**This lab must be completed individually.**\n",
    "\n",
    "Where provided, try your best to match the **Sample Output** as best as you can.\n",
    "\n",
    "## Accept the lab\n",
    "\n",
    "To accept this lab on GitHub Classroom, ***LINK***"
   ]
  },
  {
   "cell_type": "markdown",
   "metadata": {},
   "source": [
    "## Objectives\n",
    "\n",
    "1. Practice Python functions\n",
    "2. Practice Python mathematical operations\n",
    "3. Practice importing and using the Pandas module\n",
    "4. Practice working with seaborn plots"
   ]
  },
  {
   "cell_type": "code",
   "execution_count": 1,
   "metadata": {},
   "outputs": [],
   "source": [
    "# Usually all the import statements are at the top of the file\n",
    "\n",
    "import pandas as pd\n",
    "import seaborn as sns\n",
    "import numpy as np\n",
    "import os\n",
    "import math"
   ]
  },
  {
   "cell_type": "code",
   "execution_count": 2,
   "metadata": {},
   "outputs": [
    {
     "ename": "SyntaxError",
     "evalue": "invalid syntax (<ipython-input-2-221c74207cff>, line 3)",
     "output_type": "error",
     "traceback": [
      "\u001b[0;36m  File \u001b[0;32m\"<ipython-input-2-221c74207cff>\"\u001b[0;36m, line \u001b[0;32m3\u001b[0m\n\u001b[0;31m    In your projects, you may need to create your own functions to do some complex calculations (beyond mean, median etc...). In this question you will write a function to find the roots of a quadratic equation.\u001b[0m\n\u001b[0m       ^\u001b[0m\n\u001b[0;31mSyntaxError\u001b[0m\u001b[0;31m:\u001b[0m invalid syntax\n"
     ]
    }
   ],
   "source": [
    "## A: Creating Functions (3 marks)\n",
    "\n",
    "In your projects, you may need to create your own functions to do some complex calculations (beyond mean, median etc...). In this question you will write a function to find the roots of a quadratic equation.\n",
    "\n",
    "To refresh your memory from high school math, a quadratic function looks like this:\n",
    "\n",
    "<img src=\"images/quadratic.png\" width=\"500px\">\n",
    "\n",
    "Given the standard form of a quadratic equation, $ax^2 + bx + c = 0$ where *a, b, c* are known real numbers and $a\\neq0$, the quadratic formula to find unknown $x$ is:\n",
    "$$x=\\frac{-b ± \\sqrt{b^2-4ac}}{2a}$$\n",
    "\n",
    "Write a python function that calculates and prints all possible real (i.e. non-complex) answers for $x$. \n",
    "\n",
    "Check your function by running it on some test data points:\n",
    "\n",
    "- `solution(1,1,1)`,\n",
    "- `solution(1,0,-4)`,\n",
    "- `solution(1,2,1)`. \n",
    "\n",
    "#### Sample Output\n",
    ">--> For a=1, b=1, and c=1:<br>\n",
    ">The equation does not have any real solution<br>\n",
    ">--> For a=1, b=0, and c=-4:<br>\n",
    ">x1 = 2.0 and x2 = -2.0<br>\n",
    ">--> For a=1, b=2, and c=1:<br>\n",
    ">x = -1.0<br>"
   ]
  },
  {
   "cell_type": "code",
   "execution_count": 5,
   "metadata": {},
   "outputs": [],
   "source": [
    "def solution(a, b, c):\n",
    "    determinant = b**2 - 4 * a * c\n",
    "    if determinant < 0:\n",
    "        print(\"The equation does not have any real solution\")\n",
    "    elif determinant == 0:\n",
    "        x = (-b + math.sqrt(determinant)) / (2 * a)\n",
    "        print(\"x = {:.1f}\".format(x))\n",
    "    elif determinant > 0:\n",
    "        x1 = (-b + math.sqrt(determinant)) / (2 * a)\n",
    "        x2 = (-b - math.sqrt(determinant)) / (2 * a)\n",
    "        print(\"x1 = {:.1f} and x2 = {:.1f}\".format(x1, x2))"
   ]
  },
  {
   "cell_type": "code",
   "execution_count": 6,
   "metadata": {},
   "outputs": [
    {
     "name": "stdout",
     "output_type": "stream",
     "text": [
      "The equation does not have any real solution\n"
     ]
    }
   ],
   "source": [
    "solution(1,1,1)"
   ]
  },
  {
   "cell_type": "code",
   "execution_count": 7,
   "metadata": {},
   "outputs": [
    {
     "name": "stdout",
     "output_type": "stream",
     "text": [
      "x1 = 2.0 and x2 = -2.0\n"
     ]
    }
   ],
   "source": [
    "solution(1,0,-4)"
   ]
  },
  {
   "cell_type": "code",
   "execution_count": 8,
   "metadata": {},
   "outputs": [
    {
     "name": "stdout",
     "output_type": "stream",
     "text": [
      "x = -1.0\n"
     ]
    }
   ],
   "source": [
    "solution(1,2,1)"
   ]
  },
  {
   "cell_type": "markdown",
   "metadata": {},
   "source": [
    "## B: Functions (Total: 6 marks)\n",
    "\n",
    "Remember in lab 2, you used *tree* to show a map of all directories and files within a directory. \n",
    "In this section, we want to make a similar program, but using python instead. "
   ]
  },
  {
   "cell_type": "markdown",
   "metadata": {},
   "source": [
    "### B1. `ListFiles()` (2 marks): \n",
    "\n",
    "**Task: Your task is to create a python function called `ListFiles()` that takes in a directory path and then finds and print all the files (not directories) in a given directory (relative to `./`).**\n",
    "\n",
    "We suggest you use the [`listdir()` function](https://docs.python.org/3/library/os.html#os.listdir) and `isfile()` functions from the `os` module.\n",
    "\n",
    "In your GitHub repository, there is a folder called `directory_list` which contains some sample files. \n",
    "\n",
    "*Hint 1: don't forget to first `import os` to use `os.listdir()` and `os.path.isfile()`.*\n",
    "\n",
    "*Hint 2: You can see the following tutorials if you need some extra help or some worked examples: [link1](https://www.tutorialspoint.com/python/os_listdir.htm) and [link2](https://www.geeksforgeeks.org/python-os-path-isfile-method/)*.\n",
    "\n",
    "#### Sample Output\n",
    ">directory/file1.txt<br>\n",
    ">directory/file2.txt<br>\n",
    ">directory/file3.txt<br>\n",
    ">directory/file4.txt<br>"
   ]
  },
  {
   "cell_type": "code",
   "execution_count": 1,
   "metadata": {},
   "outputs": [],
   "source": [
    "import os"
   ]
  },
  {
   "cell_type": "code",
   "execution_count": 9,
   "metadata": {},
   "outputs": [],
   "source": [
    "def ListFiles(address):\n",
    "    for file in os.listdir(address):\n",
    "        if os.path.isfile(\"{0}/{1}\".format(address, file)):\n",
    "            print(\"{0}/{1}\".format(address, file))"
   ]
  },
  {
   "cell_type": "code",
   "execution_count": 10,
   "metadata": {},
   "outputs": [
    {
     "name": "stdout",
     "output_type": "stream",
     "text": [
      "directory_list/file2.txt\n",
      "directory_list/file3.txt\n",
      "directory_list/file1.txt\n",
      "directory_list/file4.txt\n"
     ]
    }
   ],
   "source": [
    "ListFiles(\"directory_list\")"
   ]
  },
  {
   "cell_type": "markdown",
   "metadata": {},
   "source": [
    "### B2. `ListDirectories()` (2 marks): \n",
    "\n",
    "**Task: Use the `os.listdir()` and `os.path.isdir()` function to find and print all the directories (not files) in a given folder.\n",
    "Create a python function `ListDirectories(path)` that prints all the directories in that folder (and subfolders).***\n",
    "\n",
    "#### Sample Output (order does not matter)\n",
    "> directory_list/dir2/ <br>\n",
    "> directory_list/dir4/ <br>\n",
    "> directory_list/dir3/ <br>\n",
    "> directory_list/dir1/ <br>"
   ]
  },
  {
   "cell_type": "code",
   "execution_count": 11,
   "metadata": {},
   "outputs": [],
   "source": [
    "def ListDirectories(address):\n",
    "    for dir in os.listdir(address):\n",
    "        if os.path.isdir(\"{0}/{1}\".format(address, dir)):\n",
    "            print(\"{0}/{1}/\".format(address, dir))"
   ]
  },
  {
   "cell_type": "code",
   "execution_count": 12,
   "metadata": {},
   "outputs": [
    {
     "name": "stdout",
     "output_type": "stream",
     "text": [
      "directory_list/dir2/\n",
      "directory_list/dir4/\n",
      "directory_list/dir3/\n",
      "directory_list/dir1/\n"
     ]
    }
   ],
   "source": [
    "ListDirectories(\"directory_list\")"
   ]
  },
  {
   "cell_type": "markdown",
   "metadata": {},
   "source": [
    "### B3. `tree()` (2 marks): \n",
    "\n",
    "**Task: Write a function `tree(path)` that prints a map of all directories AND files within a directory.**\n",
    "\n",
    "*Hint: you can use the functions you created above, or you may use the [`os.walk()`](https://www.tutorialspoint.com/python/os_walk.htm) function to complete this task (there are many ways to do it). Another option is to use [glob](https://www.geeksforgeeks.org/how-to-use-glob-function-to-find-files-recursively-in-python/).* You can explore multiple solutions if you like.\n",
    "\n",
    "#### Sample Output\n",
    "> directory_list/file1.txt <br>\n",
    "> directory_list/file2.txt <br>\n",
    "> directory_list/file3.txt <br>\n",
    "> directory_list/file4.txt <br>\n",
    "> directory_list/dir1/ <br>\n",
    "> directory_list/dir1/file24.txt <br>\n",
    "> directory_list/dir1/file23.txt <br>\n",
    "> directory_list/dir2/ <br>\n",
    "> directory_list/dir2/file34.txt <br>\n",
    "> directory_list/dir3/ <br>\n",
    "> directory_list/dir3/file110.txt <br>\n",
    "> directory_list/dir3/file140.txt <br>\n",
    "> directory_list/dir3/file130.txt <br>\n",
    "> directory_list/dir3/file120.txt <br>\n",
    "> directory_list/dir4/ <br>\n",
    "> directory_list/dir4/file11.txt <br>\n",
    "> directory_list/dir4/file12.txt <br>\n",
    "> directory_list/dir4/file13.txt <br>\n",
    "> directory_list/dir4/file14.txt <br>"
   ]
  },
  {
   "cell_type": "code",
   "execution_count": 13,
   "metadata": {},
   "outputs": [],
   "source": [
    "def tree(path):\n",
    "    for dir_or_file in os.listdir(path):\n",
    "        if os.path.isfile(\"{0}/{1}\".format(path, dir_or_file)):\n",
    "            print(\"{0}/{1}\".format(path, dir_or_file))\n",
    "        elif os.path.isdir(\"{0}/{1}\".format(path, dir_or_file)):\n",
    "            new_path = \"{0}/{1}/\".format(path, dir_or_file)\n",
    "            print(\"{0}/{1}/\".format(path, dir_or_file))\n",
    "            tree(\"{0}/{1}\".format(path, dir_or_file))"
   ]
  },
  {
   "cell_type": "code",
   "execution_count": 20,
   "metadata": {},
   "outputs": [
    {
     "name": "stdout",
     "output_type": "stream",
     "text": [
      "directory_list/file2.txt\n",
      "directory_list/file3.txt\n",
      "directory_list/file1.txt\n",
      "directory_list/file4.txt\n",
      "directory_list/dir2/\n",
      "directory_list/dir2/file34.txt\n",
      "directory_list/dir4/\n",
      "directory_list/dir4/file11.txt\n",
      "directory_list/dir4/file12.txt\n",
      "directory_list/dir4/file13.txt\n",
      "directory_list/dir4/file14.txt\n",
      "directory_list/dir3/\n",
      "directory_list/dir3/file110.txt\n",
      "directory_list/dir3/file140.txt\n",
      "directory_list/dir3/file130.txt\n",
      "directory_list/dir3/file120.txt\n",
      "directory_list/dir1/\n",
      "directory_list/dir1/file24.txt\n",
      "directory_list/dir1/file23.txt\n"
     ]
    }
   ],
   "source": [
    "# Test your function\n",
    "tree(\"directory_list\")"
   ]
  },
  {
   "cell_type": "markdown",
   "metadata": {},
   "source": [
    "## C: `numpy` (Total: 8 marks)\n",
    "\n",
    "In this section, we will practive using the `numpy` library.\n",
    "First, import the `numpy` library\n",
    "\n",
    "```\n",
    "import numpy as np\n",
    "```"
   ]
  },
  {
   "cell_type": "code",
   "execution_count": 14,
   "metadata": {},
   "outputs": [],
   "source": [
    "import numpy as np"
   ]
  },
  {
   "cell_type": "markdown",
   "metadata": {},
   "source": [
    "### C1. Create a vector (3 marks)\n",
    "\n",
    "**Task: Create an empty vector of size 10 filled with NaN.**\n",
    "\n",
    "*Hint: you need to use [`zeros()` method](https://numpy.org/doc/stable/reference/generated/numpy.zeros.html) or the [`empty()` method](https://numpy.org/doc/stable/reference/generated/numpy.empty.html?highlight=empty#numpy.empty)*"
   ]
  },
  {
   "cell_type": "code",
   "execution_count": 15,
   "metadata": {},
   "outputs": [
    {
     "name": "stdout",
     "output_type": "stream",
     "text": [
      "[nan nan nan nan nan nan nan nan nan nan]\n"
     ]
    }
   ],
   "source": [
    "# Your Solution here\n",
    "empty_vector = np.empty(10)\n",
    "empty_vector.fill(np.nan)\n",
    "print(empty_vector)"
   ]
  },
  {
   "cell_type": "markdown",
   "metadata": {},
   "source": [
    "### C2. Working with Vectors (2 marks)\n",
    "\n",
    "**Task: Create a random vector of size 10 and then find its mean, max, min, and sum value.**\n",
    "\n",
    "*Hint: for random vector you need to use `np.random.random()` and for the mean, max, min, sum you need to use build-in numpy methods `mean()`,`max()`,`min()`,`sum()`*.\n",
    "\n",
    "#### Sample output (Your numbers will be different)\n",
    "\n",
    ">[0.66698639 0.32937943 0.12074085 0.21788496 0.75628444 0.56461791\n",
    " 0.38162184 0.60966053 0.00491222 0.80007239]<br/>\n",
    ">The max is: 0.800<br/>\n",
    ">The min is: 0.005<br/>\n",
    ">The sum is: 4.452<br/>\n",
    ">The mean is: 0.445<br/>"
   ]
  },
  {
   "cell_type": "code",
   "execution_count": 18,
   "metadata": {},
   "outputs": [
    {
     "name": "stdout",
     "output_type": "stream",
     "text": [
      "[0.62522318 0.57271391 0.68445183 0.501252   0.45558006 0.04973546\n",
      " 0.06804016 0.71094529 0.76092654 0.88064458]\n",
      "The max is: 0.8806445821703782\n",
      "The min is: 0.04973546192876366\n",
      "The sum is: 5.309513010121708\n",
      "The mean is: 0.5309513010121708\n"
     ]
    }
   ],
   "source": [
    "# Your Solution here\n",
    "array = np.random.random(10)\n",
    "print(array)\n",
    "print(\"The max is: {0}\".format(array.max()))\n",
    "print(\"The min is: {0}\".format(array.min()))\n",
    "print(\"The sum is: {0}\".format(array.sum()))\n",
    "print(\"The mean is: {0}\".format(array.mean()))"
   ]
  },
  {
   "cell_type": "markdown",
   "metadata": {},
   "source": [
    "### C4. More vectors (3 marks)\n",
    "\n",
    "**Task: Using `numpy` Create a vector of size 15 which contains random values ranging from 10 to 90 and replace the minimum value with 100 and maximum value with 0. Print the mean, befor and after.**\n",
    "\n",
    "*Hint: you may need to use `argmax()` and `argmin()`. \n",
    "Documentation for that can be found [here](https://numpy.org/doc/stable/reference/generated/numpy.argmax.html).*\n",
    "\n",
    "\n",
    "##### Sample output\n",
    ">before: [20 27 10 63 57 71 50 18 76 56 38 62 10  9 12]<br>\n",
    ">mean: 38.6<br>\n",
    ">after: [ 20  27  10  63  57  71  50  18 100  56  38  62  10   9  12]<br>\n",
    ">mean: 40.2<br>"
   ]
  },
  {
   "cell_type": "code",
   "execution_count": 20,
   "metadata": {},
   "outputs": [
    {
     "name": "stdout",
     "output_type": "stream",
     "text": [
      "before: [84 78 89 65 77 50 16 75 66 41 38 55 45 72 72]\n",
      "mean: 61.53333333333333\n",
      "after: [ 84  78  89  65  77  50 100  75  66  41  38  55  45  72  72]\n",
      "mean: 67.13333333333334\n"
     ]
    }
   ],
   "source": [
    "# Your Solution here\n",
    "array = np.random.randint(10, 90, 15)\n",
    "print(\"before: {0}\".format(array))\n",
    "print(\"mean: {0}\".format(array.mean()))\n",
    "array[np.argmin(array)] = 100\n",
    "print(\"after: {0}\".format(array))\n",
    "print(\"mean: {0}\".format(array.mean()))"
   ]
  },
  {
   "cell_type": "markdown",
   "metadata": {},
   "source": [
    "## D. Plotting using Seaborn (and matplotlib) (Total: 16 marks)\n",
    "\n",
    "`matplotlib` is a Python library for data visualization. \n",
    "`seaborn` is a statistical data visualization library layer that provides a high-level interface for drawing statistical graphics and some convenient functions for plotting data frames.\n",
    "\n",
    "You may need to install `seaborn` and `matplotlib`\n",
    "\n",
    "`conda install seaborn`<br>\n",
    "`conda install matplotlib`\n",
    "\n",
    "and just in case it's not the latest version, go ahead and update it:\n",
    "\n",
    "`conda update matplotlib`<br>\n",
    "`conda update seaborn`\n",
    "\n"
   ]
  },
  {
   "cell_type": "code",
   "execution_count": 1,
   "metadata": {},
   "outputs": [],
   "source": [
    "import matplotlib.pyplot as plt\n",
    "import seaborn as sns\n",
    "import pandas as pd\n",
    "import numpy as np\n",
    "%matplotlib inline\n",
    "# There are five preset seaborn themes: darkgrid, whitegrid, dark, white, and ticks. \n",
    "# They are each suited to different applications and personal preferences.\n",
    "# You can see what they look like [here](https://seaborn.pydata.org/tutorial/aesthetics.html#seaborn-figure-styles)\n",
    "\n",
    "# Just for fun, we're going to set the theme to be a nice one:\n",
    "sns.set_theme(style=\"ticks\",\n",
    "              font_scale=1.3, # This scales the fonts slightly higher\n",
    "             )\n",
    "# And we're going to remove the top and right axis lines\n",
    "plt.rc(\"axes.spines\", top=False, right=False)"
   ]
  },
  {
   "cell_type": "markdown",
   "metadata": {},
   "source": [
    "### D1. Load data (1 mark)\n",
    "\n",
    "Without downloading the csv file to your repo, load the \"*BCCDC_COVID19.csv*\" file using the direct URL: \"http://www.bccdc.ca/Health-Info-Site/Documents/BCCDC_COVID19_Dashboard_Case_Details.csv\".\n",
    "\n",
    "**DO NOT DOWNLOAD THE DATA TO YOUR REPOSITORY!**\n",
    "\n",
    "Use `pandas` module/package and the `read_csv()` function to load the data by passing in the URL and then save the data in a variable called `df`."
   ]
  },
  {
   "cell_type": "code",
   "execution_count": 3,
   "metadata": {},
   "outputs": [
    {
     "data": {
      "text/html": [
       "<div>\n",
       "<style scoped>\n",
       "    .dataframe tbody tr th:only-of-type {\n",
       "        vertical-align: middle;\n",
       "    }\n",
       "\n",
       "    .dataframe tbody tr th {\n",
       "        vertical-align: top;\n",
       "    }\n",
       "\n",
       "    .dataframe thead th {\n",
       "        text-align: right;\n",
       "    }\n",
       "</style>\n",
       "<table border=\"1\" class=\"dataframe\">\n",
       "  <thead>\n",
       "    <tr style=\"text-align: right;\">\n",
       "      <th></th>\n",
       "      <th>Reported_Date</th>\n",
       "      <th>HA</th>\n",
       "      <th>Sex</th>\n",
       "      <th>Age_Group</th>\n",
       "      <th>Classification_Reported</th>\n",
       "    </tr>\n",
       "  </thead>\n",
       "  <tbody>\n",
       "    <tr>\n",
       "      <th>0</th>\n",
       "      <td>2020-01-26</td>\n",
       "      <td>Out of Canada</td>\n",
       "      <td>M</td>\n",
       "      <td>40-49</td>\n",
       "      <td>Lab-diagnosed</td>\n",
       "    </tr>\n",
       "    <tr>\n",
       "      <th>1</th>\n",
       "      <td>2020-02-02</td>\n",
       "      <td>Vancouver Coastal</td>\n",
       "      <td>F</td>\n",
       "      <td>50-59</td>\n",
       "      <td>Lab-diagnosed</td>\n",
       "    </tr>\n",
       "    <tr>\n",
       "      <th>2</th>\n",
       "      <td>2020-02-05</td>\n",
       "      <td>Out of Canada</td>\n",
       "      <td>F</td>\n",
       "      <td>20-29</td>\n",
       "      <td>Lab-diagnosed</td>\n",
       "    </tr>\n",
       "    <tr>\n",
       "      <th>3</th>\n",
       "      <td>2020-02-05</td>\n",
       "      <td>Out of Canada</td>\n",
       "      <td>M</td>\n",
       "      <td>30-39</td>\n",
       "      <td>Lab-diagnosed</td>\n",
       "    </tr>\n",
       "    <tr>\n",
       "      <th>4</th>\n",
       "      <td>2020-02-11</td>\n",
       "      <td>Interior</td>\n",
       "      <td>F</td>\n",
       "      <td>30-39</td>\n",
       "      <td>Lab-diagnosed</td>\n",
       "    </tr>\n",
       "    <tr>\n",
       "      <th>...</th>\n",
       "      <td>...</td>\n",
       "      <td>...</td>\n",
       "      <td>...</td>\n",
       "      <td>...</td>\n",
       "      <td>...</td>\n",
       "    </tr>\n",
       "    <tr>\n",
       "      <th>17144</th>\n",
       "      <td>2020-11-06</td>\n",
       "      <td>Northern</td>\n",
       "      <td>F</td>\n",
       "      <td>80-89</td>\n",
       "      <td>Lab-diagnosed</td>\n",
       "    </tr>\n",
       "    <tr>\n",
       "      <th>17145</th>\n",
       "      <td>2020-11-06</td>\n",
       "      <td>Northern</td>\n",
       "      <td>F</td>\n",
       "      <td>70-79</td>\n",
       "      <td>Lab-diagnosed</td>\n",
       "    </tr>\n",
       "    <tr>\n",
       "      <th>17146</th>\n",
       "      <td>2020-11-06</td>\n",
       "      <td>Northern</td>\n",
       "      <td>F</td>\n",
       "      <td>80-89</td>\n",
       "      <td>Lab-diagnosed</td>\n",
       "    </tr>\n",
       "    <tr>\n",
       "      <th>17147</th>\n",
       "      <td>2020-11-06</td>\n",
       "      <td>Northern</td>\n",
       "      <td>M</td>\n",
       "      <td>20-29</td>\n",
       "      <td>Lab-diagnosed</td>\n",
       "    </tr>\n",
       "    <tr>\n",
       "      <th>17148</th>\n",
       "      <td>2020-11-06</td>\n",
       "      <td>Northern</td>\n",
       "      <td>M</td>\n",
       "      <td>10-19</td>\n",
       "      <td>Lab-diagnosed</td>\n",
       "    </tr>\n",
       "  </tbody>\n",
       "</table>\n",
       "<p>17149 rows × 5 columns</p>\n",
       "</div>"
      ],
      "text/plain": [
       "      Reported_Date                 HA Sex Age_Group Classification_Reported\n",
       "0        2020-01-26      Out of Canada   M     40-49           Lab-diagnosed\n",
       "1        2020-02-02  Vancouver Coastal   F     50-59           Lab-diagnosed\n",
       "2        2020-02-05      Out of Canada   F     20-29           Lab-diagnosed\n",
       "3        2020-02-05      Out of Canada   M     30-39           Lab-diagnosed\n",
       "4        2020-02-11           Interior   F     30-39           Lab-diagnosed\n",
       "...             ...                ...  ..       ...                     ...\n",
       "17144    2020-11-06           Northern   F     80-89           Lab-diagnosed\n",
       "17145    2020-11-06           Northern   F     70-79           Lab-diagnosed\n",
       "17146    2020-11-06           Northern   F     80-89           Lab-diagnosed\n",
       "17147    2020-11-06           Northern   M     20-29           Lab-diagnosed\n",
       "17148    2020-11-06           Northern   M     10-19           Lab-diagnosed\n",
       "\n",
       "[17149 rows x 5 columns]"
      ]
     },
     "execution_count": 3,
     "metadata": {},
     "output_type": "execute_result"
    }
   ],
   "source": [
    "# Your Solution here\n",
    "df = pd.read_csv('http://www.bccdc.ca/Health-Info-Site/Documents/BCCDC_COVID19_Dashboard_Case_Details.csv')\n",
    "df\n"
   ]
  },
  {
   "cell_type": "markdown",
   "metadata": {},
   "source": [
    "### D2. Counts of cases by Sex (2 marks)\n",
    "Using [`sns.countplot()`](https://seaborn.pydata.org/generated/seaborn.countplot.html?highlight=countplot#seaborn.countplot), plot the number of all female and male cases. \n",
    "\n",
    "Set the title to be \"Number of COVID-19 cases by Sex\". \n",
    "\n",
    "*Hint: The documentation above contains some examples that might help you get started*\n",
    "#### Sample output\n",
    "<img src=\"./images/bar1.png\" width=\"400px\" />"
   ]
  },
  {
   "cell_type": "code",
   "execution_count": 4,
   "metadata": {},
   "outputs": [
    {
     "data": {
      "image/png": "[encoded data removed]",
      "text/plain": [
       "<Figure size 432x288 with 1 Axes>"
      ]
     },
     "metadata": {},
     "output_type": "display_data"
    }
   ],
   "source": [
    "# Your Solution here\n",
    "graph = sns.countplot(data=df, y='Sex')\n",
    "graph.set(title='Number of COVID-19 cases by Sex', xlabel='Count of cases', ylabel='Sex of patients')\n",
    "plt.show()\n"
   ]
  },
  {
   "cell_type": "markdown",
   "metadata": {},
   "source": [
    "### D3. Counts of cases by Age Group (2 marks)\n",
    "\n",
    "Plot the counts of cases by age group, and order the y-axis by increasing age (use the `order` parameter of the `countplot()` function).\n",
    "\n",
    "<img src=\"images/bar_age.png\" width=\"400px\">"
   ]
  },
  {
   "cell_type": "code",
   "execution_count": 5,
   "metadata": {},
   "outputs": [
    {
     "data": {
      "image/png": "[encoded data removed]",
      "text/plain": [
       "<Figure size 432x288 with 1 Axes>"
      ]
     },
     "metadata": {},
     "output_type": "display_data"
    }
   ],
   "source": [
    "# Your Solution here\n",
    "ord = sorted(set(df['Age_Group']))\n",
    "value = ord.pop(9)\n",
    "ord.insert(0, value)\n",
    "\n",
    "graph = sns.countplot(data=df, y='Age_Group', order=ord)\n",
    "graph.set(title='Number of COVID-19 cases by Age Group', xlabel='Count of cases', ylabel='Age Group')\n",
    "plt.show()"
   ]
  },
  {
   "cell_type": "markdown",
   "metadata": {},
   "source": [
    "### D4. Cases by regional health authority (3 marks)\n",
    "\n",
    "Using `set()` data type, find the all the different regions in `df['HA']`. In the next step, calculate the count of all cases in each of those regions. Finally, using [`plt.barh`](https://matplotlib.org/3.1.1/api/_as_gen/matplotlib.pyplot.barh.html), plot a horizontal bar chart of number of cases based on their regions.\n",
    "\n",
    "*Hint: More information and examples can be find in [link](https://www.geeksforgeeks.org/matplotlib-axes-axes-barh-in-python/)*\n",
    "\n",
    "*Hint: Your plot doesn't have to look exactly like this, but please do explore the [possible color palettes](https://seaborn.pydata.org/tutorial/color_palettes.html). You can specify the colour palette by passing in the keyword like this: `palette='colorblind'`.*\n",
    "\n",
    "#### Sample output\n",
    "<img src=\"images/hbar.png\" width=\"400px\" />"
   ]
  },
  {
   "cell_type": "code",
   "execution_count": 6,
   "metadata": {},
   "outputs": [
    {
     "data": {
      "image/png": "[encoded data removed]",
      "text/plain": [
       "<Figure size 432x288 with 1 Axes>"
      ]
     },
     "metadata": {},
     "output_type": "display_data"
    }
   ],
   "source": [
    "# Your solution here\n",
    "regions = sorted(set(df['HA']))\n",
    "sex = sorted(set(df['Sex']))\n",
    "\n",
    "\n",
    "data = np.empty(shape=(len(sex), len(regions)))\n",
    "\n",
    "for i in range(len(regions)):\n",
    "    data[0][i]=len(df.loc[(df['HA'] == regions[i]) & (df['Sex'] == 'F')])\n",
    "    data[1][i]=len(df.loc[(df['HA'] == regions[i]) & (df['Sex'] == 'M')])\n",
    "    data[2][i]=len(df.loc[(df['HA'] == regions[i]) & (df['Sex'] == 'U')])\n",
    "    \n",
    "\n",
    "\n",
    "dim = len(data)\n",
    "width = 0.6\n",
    "dimw = width/dim\n",
    "\n",
    "fig, ax = plt.subplots() \n",
    "x = np.arange(len(data[0]))\n",
    "\n",
    "\n",
    "colors = sns.color_palette(palette='pastel')\n",
    "for i in range(len(data)):\n",
    "    b = ax.barh(x+i*dimw, data[i], dimw, left = 0.001, color=colors[i], label=sex[i])\n",
    "    \n",
    "ax.set_yticks(x + dimw / 3)\n",
    "ax.set_yticklabels(regions)\n",
    "ax.legend()\n",
    "\n",
    "plt.show()"
   ]
  },
  {
   "cell_type": "markdown",
   "metadata": {},
   "source": [
    "### D5. Data Wrangling I (2 marks)\n",
    "\n",
    "**Task: Add a new column to the dataframe to convert the \"Reported_Date\" column to a datetime object**\n",
    "\n",
    "To do this, first we need to add a new column to our dataset to turn the column \"Reported_Date\" into a proper datetime object so we can do operations on it.\n",
    "\n",
    "*Hint: Use to [to_datetime()](https://pandas.pydata.org/pandas-docs/stable/reference/api/pandas.to_datetime.html) function to help you first convert it into a datetime object, and then remove the timezone information and HH:MM:SS using [`.dt.date`](https://pandas.pydata.org/pandas-docs/stable/reference/api/pandas.Series.dt.date.html).*"
   ]
  },
  {
   "cell_type": "code",
   "execution_count": 7,
   "metadata": {},
   "outputs": [
    {
     "name": "stdout",
     "output_type": "stream",
     "text": [
      "Reported_Date              object\n",
      "HA                         object\n",
      "Sex                        object\n",
      "Age_Group                  object\n",
      "Classification_Reported    object\n",
      "dtype: object\n",
      "\n",
      "After: \n",
      "Reported_Date                      object\n",
      "HA                                 object\n",
      "Sex                                object\n",
      "Age_Group                          object\n",
      "Classification_Reported            object\n",
      "Date_Conversion            datetime64[ns]\n",
      "dtype: object\n",
      "\n",
      "After: \n",
      "Reported_Date              object\n",
      "HA                         object\n",
      "Sex                        object\n",
      "Age_Group                  object\n",
      "Classification_Reported    object\n",
      "Date_Conversion            object\n",
      "dtype: object\n"
     ]
    },
    {
     "data": {
      "text/html": [
       "<div>\n",
       "<style scoped>\n",
       "    .dataframe tbody tr th:only-of-type {\n",
       "        vertical-align: middle;\n",
       "    }\n",
       "\n",
       "    .dataframe tbody tr th {\n",
       "        vertical-align: top;\n",
       "    }\n",
       "\n",
       "    .dataframe thead th {\n",
       "        text-align: right;\n",
       "    }\n",
       "</style>\n",
       "<table border=\"1\" class=\"dataframe\">\n",
       "  <thead>\n",
       "    <tr style=\"text-align: right;\">\n",
       "      <th></th>\n",
       "      <th>Reported_Date</th>\n",
       "      <th>HA</th>\n",
       "      <th>Sex</th>\n",
       "      <th>Age_Group</th>\n",
       "      <th>Classification_Reported</th>\n",
       "      <th>Date_Conversion</th>\n",
       "    </tr>\n",
       "  </thead>\n",
       "  <tbody>\n",
       "    <tr>\n",
       "      <th>0</th>\n",
       "      <td>2020-01-26</td>\n",
       "      <td>Out of Canada</td>\n",
       "      <td>M</td>\n",
       "      <td>40-49</td>\n",
       "      <td>Lab-diagnosed</td>\n",
       "      <td>2020-01-26</td>\n",
       "    </tr>\n",
       "    <tr>\n",
       "      <th>1</th>\n",
       "      <td>2020-02-02</td>\n",
       "      <td>Vancouver Coastal</td>\n",
       "      <td>F</td>\n",
       "      <td>50-59</td>\n",
       "      <td>Lab-diagnosed</td>\n",
       "      <td>2020-02-02</td>\n",
       "    </tr>\n",
       "    <tr>\n",
       "      <th>2</th>\n",
       "      <td>2020-02-05</td>\n",
       "      <td>Out of Canada</td>\n",
       "      <td>F</td>\n",
       "      <td>20-29</td>\n",
       "      <td>Lab-diagnosed</td>\n",
       "      <td>2020-02-05</td>\n",
       "    </tr>\n",
       "    <tr>\n",
       "      <th>3</th>\n",
       "      <td>2020-02-05</td>\n",
       "      <td>Out of Canada</td>\n",
       "      <td>M</td>\n",
       "      <td>30-39</td>\n",
       "      <td>Lab-diagnosed</td>\n",
       "      <td>2020-02-05</td>\n",
       "    </tr>\n",
       "    <tr>\n",
       "      <th>4</th>\n",
       "      <td>2020-02-11</td>\n",
       "      <td>Interior</td>\n",
       "      <td>F</td>\n",
       "      <td>30-39</td>\n",
       "      <td>Lab-diagnosed</td>\n",
       "      <td>2020-02-11</td>\n",
       "    </tr>\n",
       "    <tr>\n",
       "      <th>...</th>\n",
       "      <td>...</td>\n",
       "      <td>...</td>\n",
       "      <td>...</td>\n",
       "      <td>...</td>\n",
       "      <td>...</td>\n",
       "      <td>...</td>\n",
       "    </tr>\n",
       "    <tr>\n",
       "      <th>17144</th>\n",
       "      <td>2020-11-06</td>\n",
       "      <td>Northern</td>\n",
       "      <td>F</td>\n",
       "      <td>80-89</td>\n",
       "      <td>Lab-diagnosed</td>\n",
       "      <td>2020-11-06</td>\n",
       "    </tr>\n",
       "    <tr>\n",
       "      <th>17145</th>\n",
       "      <td>2020-11-06</td>\n",
       "      <td>Northern</td>\n",
       "      <td>F</td>\n",
       "      <td>70-79</td>\n",
       "      <td>Lab-diagnosed</td>\n",
       "      <td>2020-11-06</td>\n",
       "    </tr>\n",
       "    <tr>\n",
       "      <th>17146</th>\n",
       "      <td>2020-11-06</td>\n",
       "      <td>Northern</td>\n",
       "      <td>F</td>\n",
       "      <td>80-89</td>\n",
       "      <td>Lab-diagnosed</td>\n",
       "      <td>2020-11-06</td>\n",
       "    </tr>\n",
       "    <tr>\n",
       "      <th>17147</th>\n",
       "      <td>2020-11-06</td>\n",
       "      <td>Northern</td>\n",
       "      <td>M</td>\n",
       "      <td>20-29</td>\n",
       "      <td>Lab-diagnosed</td>\n",
       "      <td>2020-11-06</td>\n",
       "    </tr>\n",
       "    <tr>\n",
       "      <th>17148</th>\n",
       "      <td>2020-11-06</td>\n",
       "      <td>Northern</td>\n",
       "      <td>M</td>\n",
       "      <td>10-19</td>\n",
       "      <td>Lab-diagnosed</td>\n",
       "      <td>2020-11-06</td>\n",
       "    </tr>\n",
       "  </tbody>\n",
       "</table>\n",
       "<p>17149 rows × 6 columns</p>\n",
       "</div>"
      ],
      "text/plain": [
       "      Reported_Date                 HA Sex Age_Group Classification_Reported  \\\n",
       "0        2020-01-26      Out of Canada   M     40-49           Lab-diagnosed   \n",
       "1        2020-02-02  Vancouver Coastal   F     50-59           Lab-diagnosed   \n",
       "2        2020-02-05      Out of Canada   F     20-29           Lab-diagnosed   \n",
       "3        2020-02-05      Out of Canada   M     30-39           Lab-diagnosed   \n",
       "4        2020-02-11           Interior   F     30-39           Lab-diagnosed   \n",
       "...             ...                ...  ..       ...                     ...   \n",
       "17144    2020-11-06           Northern   F     80-89           Lab-diagnosed   \n",
       "17145    2020-11-06           Northern   F     70-79           Lab-diagnosed   \n",
       "17146    2020-11-06           Northern   F     80-89           Lab-diagnosed   \n",
       "17147    2020-11-06           Northern   M     20-29           Lab-diagnosed   \n",
       "17148    2020-11-06           Northern   M     10-19           Lab-diagnosed   \n",
       "\n",
       "      Date_Conversion  \n",
       "0          2020-01-26  \n",
       "1          2020-02-02  \n",
       "2          2020-02-05  \n",
       "3          2020-02-05  \n",
       "4          2020-02-11  \n",
       "...               ...  \n",
       "17144      2020-11-06  \n",
       "17145      2020-11-06  \n",
       "17146      2020-11-06  \n",
       "17147      2020-11-06  \n",
       "17148      2020-11-06  \n",
       "\n",
       "[17149 rows x 6 columns]"
      ]
     },
     "execution_count": 7,
     "metadata": {},
     "output_type": "execute_result"
    }
   ],
   "source": [
    "# Your Solution here\n",
    "print(df.dtypes)\n",
    "new_df = df.assign(Date_Conversion = pd.to_datetime(df['Reported_Date']))\n",
    "print(\"\\nAfter: \")\n",
    "print(new_df.dtypes)\n",
    "new_df\n",
    "\n",
    "new_df = new_df.assign(Date_Conversion = new_df['Date_Conversion'].dt.date)\n",
    "print(\"\\nAfter: \")\n",
    "print(new_df.dtypes)\n",
    "new_df\n"
   ]
  },
  {
   "cell_type": "markdown",
   "metadata": {},
   "source": [
    "### D6. Data Wrangling II (1 mark)\n",
    "\n",
    "**Task: Find the earliest reported case and the latest reported case of COVID-19 in the dataset**\n",
    "\n",
    "You should use the pandas .min() and .max() functions here, now that your date string is converted to a DateTime object.\n",
    "\n",
    "#### Sample Output\n",
    "\n",
    "> The earliest reported case of COVID-19 was: 2020-01-26 <br>\n",
    "> The latest reported case of COVID-19 was: 2020-10-23 <br>"
   ]
  },
  {
   "cell_type": "code",
   "execution_count": 8,
   "metadata": {},
   "outputs": [
    {
     "name": "stdout",
     "output_type": "stream",
     "text": [
      "The earliest reported case of COVID-19 was: 2020-01-26\n",
      "The earliest reported case of COVID-19 was: 2020-11-06\n"
     ]
    }
   ],
   "source": [
    "# Your Solution here\n",
    "print(\"The earliest reported case of COVID-19 was: {0}\".format(min(new_df['Date_Conversion'])))\n",
    "print(\"The earliest reported case of COVID-19 was: {0}\".format(max(new_df['Date_Conversion'])))\n"
   ]
  },
  {
   "cell_type": "markdown",
   "metadata": {},
   "source": [
    "### D7. Data Wrangling III (2 marks)\n",
    "\n",
    "**Task: Create a new column in the data frame called \"days_since\".**\n",
    "\n",
    "This column will be of type integer, and will simply show the days since the first reported case of COVID-19.\n",
    "\n",
    "*Hint: Subtracting the earliest reported date from the `Reported_Date_Object` column will get you most of the way there. After that, the only thing left to is to turn the result (a datetime object) into an integer using [`.dt.days`](https://pandas.pydata.org/pandas-docs/stable/reference/api/pandas.Series.dt.days.html?highlight=dt.days#pandas.Series.dt.days).*"
   ]
  },
  {
   "cell_type": "code",
   "execution_count": 9,
   "metadata": {},
   "outputs": [
    {
     "data": {
      "text/html": [
       "<div>\n",
       "<style scoped>\n",
       "    .dataframe tbody tr th:only-of-type {\n",
       "        vertical-align: middle;\n",
       "    }\n",
       "\n",
       "    .dataframe tbody tr th {\n",
       "        vertical-align: top;\n",
       "    }\n",
       "\n",
       "    .dataframe thead th {\n",
       "        text-align: right;\n",
       "    }\n",
       "</style>\n",
       "<table border=\"1\" class=\"dataframe\">\n",
       "  <thead>\n",
       "    <tr style=\"text-align: right;\">\n",
       "      <th></th>\n",
       "      <th>Reported_Date</th>\n",
       "      <th>HA</th>\n",
       "      <th>Sex</th>\n",
       "      <th>Age_Group</th>\n",
       "      <th>Classification_Reported</th>\n",
       "      <th>Date_Conversion</th>\n",
       "      <th>days_since</th>\n",
       "    </tr>\n",
       "  </thead>\n",
       "  <tbody>\n",
       "    <tr>\n",
       "      <th>0</th>\n",
       "      <td>2020-01-26</td>\n",
       "      <td>Out of Canada</td>\n",
       "      <td>M</td>\n",
       "      <td>40-49</td>\n",
       "      <td>Lab-diagnosed</td>\n",
       "      <td>2020-01-26</td>\n",
       "      <td>0</td>\n",
       "    </tr>\n",
       "    <tr>\n",
       "      <th>1</th>\n",
       "      <td>2020-02-02</td>\n",
       "      <td>Vancouver Coastal</td>\n",
       "      <td>F</td>\n",
       "      <td>50-59</td>\n",
       "      <td>Lab-diagnosed</td>\n",
       "      <td>2020-02-02</td>\n",
       "      <td>7</td>\n",
       "    </tr>\n",
       "    <tr>\n",
       "      <th>2</th>\n",
       "      <td>2020-02-05</td>\n",
       "      <td>Out of Canada</td>\n",
       "      <td>F</td>\n",
       "      <td>20-29</td>\n",
       "      <td>Lab-diagnosed</td>\n",
       "      <td>2020-02-05</td>\n",
       "      <td>10</td>\n",
       "    </tr>\n",
       "    <tr>\n",
       "      <th>3</th>\n",
       "      <td>2020-02-05</td>\n",
       "      <td>Out of Canada</td>\n",
       "      <td>M</td>\n",
       "      <td>30-39</td>\n",
       "      <td>Lab-diagnosed</td>\n",
       "      <td>2020-02-05</td>\n",
       "      <td>10</td>\n",
       "    </tr>\n",
       "    <tr>\n",
       "      <th>4</th>\n",
       "      <td>2020-02-11</td>\n",
       "      <td>Interior</td>\n",
       "      <td>F</td>\n",
       "      <td>30-39</td>\n",
       "      <td>Lab-diagnosed</td>\n",
       "      <td>2020-02-11</td>\n",
       "      <td>16</td>\n",
       "    </tr>\n",
       "    <tr>\n",
       "      <th>...</th>\n",
       "      <td>...</td>\n",
       "      <td>...</td>\n",
       "      <td>...</td>\n",
       "      <td>...</td>\n",
       "      <td>...</td>\n",
       "      <td>...</td>\n",
       "      <td>...</td>\n",
       "    </tr>\n",
       "    <tr>\n",
       "      <th>17144</th>\n",
       "      <td>2020-11-06</td>\n",
       "      <td>Northern</td>\n",
       "      <td>F</td>\n",
       "      <td>80-89</td>\n",
       "      <td>Lab-diagnosed</td>\n",
       "      <td>2020-11-06</td>\n",
       "      <td>285</td>\n",
       "    </tr>\n",
       "    <tr>\n",
       "      <th>17145</th>\n",
       "      <td>2020-11-06</td>\n",
       "      <td>Northern</td>\n",
       "      <td>F</td>\n",
       "      <td>70-79</td>\n",
       "      <td>Lab-diagnosed</td>\n",
       "      <td>2020-11-06</td>\n",
       "      <td>285</td>\n",
       "    </tr>\n",
       "    <tr>\n",
       "      <th>17146</th>\n",
       "      <td>2020-11-06</td>\n",
       "      <td>Northern</td>\n",
       "      <td>F</td>\n",
       "      <td>80-89</td>\n",
       "      <td>Lab-diagnosed</td>\n",
       "      <td>2020-11-06</td>\n",
       "      <td>285</td>\n",
       "    </tr>\n",
       "    <tr>\n",
       "      <th>17147</th>\n",
       "      <td>2020-11-06</td>\n",
       "      <td>Northern</td>\n",
       "      <td>M</td>\n",
       "      <td>20-29</td>\n",
       "      <td>Lab-diagnosed</td>\n",
       "      <td>2020-11-06</td>\n",
       "      <td>285</td>\n",
       "    </tr>\n",
       "    <tr>\n",
       "      <th>17148</th>\n",
       "      <td>2020-11-06</td>\n",
       "      <td>Northern</td>\n",
       "      <td>M</td>\n",
       "      <td>10-19</td>\n",
       "      <td>Lab-diagnosed</td>\n",
       "      <td>2020-11-06</td>\n",
       "      <td>285</td>\n",
       "    </tr>\n",
       "  </tbody>\n",
       "</table>\n",
       "<p>17149 rows × 7 columns</p>\n",
       "</div>"
      ],
      "text/plain": [
       "      Reported_Date                 HA Sex Age_Group Classification_Reported  \\\n",
       "0        2020-01-26      Out of Canada   M     40-49           Lab-diagnosed   \n",
       "1        2020-02-02  Vancouver Coastal   F     50-59           Lab-diagnosed   \n",
       "2        2020-02-05      Out of Canada   F     20-29           Lab-diagnosed   \n",
       "3        2020-02-05      Out of Canada   M     30-39           Lab-diagnosed   \n",
       "4        2020-02-11           Interior   F     30-39           Lab-diagnosed   \n",
       "...             ...                ...  ..       ...                     ...   \n",
       "17144    2020-11-06           Northern   F     80-89           Lab-diagnosed   \n",
       "17145    2020-11-06           Northern   F     70-79           Lab-diagnosed   \n",
       "17146    2020-11-06           Northern   F     80-89           Lab-diagnosed   \n",
       "17147    2020-11-06           Northern   M     20-29           Lab-diagnosed   \n",
       "17148    2020-11-06           Northern   M     10-19           Lab-diagnosed   \n",
       "\n",
       "      Date_Conversion  days_since  \n",
       "0          2020-01-26           0  \n",
       "1          2020-02-02           7  \n",
       "2          2020-02-05          10  \n",
       "3          2020-02-05          10  \n",
       "4          2020-02-11          16  \n",
       "...               ...         ...  \n",
       "17144      2020-11-06         285  \n",
       "17145      2020-11-06         285  \n",
       "17146      2020-11-06         285  \n",
       "17147      2020-11-06         285  \n",
       "17148      2020-11-06         285  \n",
       "\n",
       "[17149 rows x 7 columns]"
      ]
     },
     "execution_count": 9,
     "metadata": {},
     "output_type": "execute_result"
    }
   ],
   "source": [
    "# Your Solution here\n",
    "new2_df = new_df.assign(days_since = new_df['Date_Conversion'] - min(new_df['Date_Conversion']))\n",
    "new2_df = new2_df.assign(days_since = new2_df['days_since'].dt.days)\n",
    "\n",
    "new2_df"
   ]
  },
  {
   "cell_type": "markdown",
   "metadata": {},
   "source": [
    "### D8. Plot the COVID-19 cases plotted over time by sex (3 mark)\n",
    "\n",
    "Using `sns.displot`, plot the histogram of females and males cases over time.\n",
    "\n",
    "*Hint 1: [Here is a nice tutorial](https://seaborn.pydata.org/tutorial/distributions.html) of all the different options that are possible when creating a histogram.*\n",
    "\n",
    "#### Sample output\n",
    "<img src=\"images/hist.png\" width=\"600px\">"
   ]
  },
  {
   "cell_type": "code",
   "execution_count": 10,
   "metadata": {},
   "outputs": [
    {
     "data": {
      "image/png": "[encoded data removed]",
      "text/plain": [
       "<Figure size 1503.36x720 with 1 Axes>"
      ]
     },
     "metadata": {},
     "output_type": "display_data"
    }
   ],
   "source": [
    "# Your Solution here \n",
    "\n",
    "g = sns.displot(new2_df, x=\"days_since\", hue=\"Sex\", multiple=\"dodge\",aspect=2, height=10)\n",
    "g.fig.suptitle(\"Reported COVID-19 cases by sex\")\n",
    "plt.show()"
   ]
  },
  {
   "cell_type": "markdown",
   "metadata": {},
   "source": [
    "### D8. BONUS - For a bonus mark, move the legend to the top left of the plot (1 mark)"
   ]
  },
  {
   "cell_type": "code",
   "execution_count": 11,
   "metadata": {},
   "outputs": [
    {
     "data": {
      "image/png": "[encoded data removed]",
      "text/plain": [
       "<Figure size 1440x720 with 1 Axes>"
      ]
     },
     "metadata": {},
     "output_type": "display_data"
    }
   ],
   "source": [
    "g = sns.displot(new2_df, x=\"days_since\", hue=\"Sex\", multiple=\"dodge\",aspect=2, height=10, legend=False)\n",
    "g.fig.suptitle(\"Reported COVID-19 cases by sex\")\n",
    "plt.legend(('U', 'F', 'M'), loc='upper left')\n",
    "plt.show()"
   ]
  },
  {
   "cell_type": "markdown",
   "metadata": {},
   "source": [
    "### D8. BONUS - For a bonus mark, order the Health authorities on the y-axis (1 mark)\n",
    "\n",
    "You can order it by some metric (either alphabetically, or by total counts, or some other sensible metric)"
   ]
  },
  {
   "cell_type": "code",
   "execution_count": 14,
   "metadata": {},
   "outputs": [
    {
     "data": {
      "image/png": "[encoded data removed]",
      "text/plain": [
       "<Figure size 432x288 with 1 Axes>"
      ]
     },
     "metadata": {},
     "output_type": "display_data"
    }
   ],
   "source": [
    "# Your solution here, it is sorted by ascending order alphabetically, \n",
    "regions = sorted(set(df['HA']), reverse=True)\n",
    "sex = sorted(set(df['Sex']))\n",
    "\n",
    "\n",
    "data = np.empty(shape=(len(sex), len(regions)))\n",
    "\n",
    "for i in range(len(regions)):\n",
    "    data[0][i]=len(df.loc[(df['HA'] == regions[i]) & (df['Sex'] == 'F')])\n",
    "    data[1][i]=len(df.loc[(df['HA'] == regions[i]) & (df['Sex'] == 'M')])\n",
    "    data[2][i]=len(df.loc[(df['HA'] == regions[i]) & (df['Sex'] == 'U')])\n",
    "    \n",
    "\n",
    "\n",
    "\n",
    "dim = len(data)\n",
    "width = 0.6\n",
    "dimw = width/dim\n",
    "\n",
    "fig, ax = plt.subplots() \n",
    "x = np.arange(len(data[0]))\n",
    "\n",
    "\n",
    "colors = sns.color_palette(palette='pastel')\n",
    "for i in range(len(data)):\n",
    "    b = ax.barh(x+i*dimw, data[i], dimw, left = 0.001, color=colors[i], label=sex[i])\n",
    "    \n",
    "ax.set_yticks(x + dimw / 3)\n",
    "ax.set_yticklabels(regions)\n",
    "ax.legend()\n",
    "\n",
    "plt.show()"
   ]
  },
  {
   "cell_type": "code",
   "execution_count": null,
   "metadata": {},
   "outputs": [],
   "source": []
  }
 ],
 "metadata": {
  "kernelspec": {
   "display_name": "Python 3",
   "language": "python",
   "name": "python3"
  },
  "language_info": {
   "codemirror_mode": {
    "name": "ipython",
    "version": 3
   },
   "file_extension": ".py",
   "mimetype": "text/x-python",
   "name": "python",
   "nbconvert_exporter": "python",
   "pygments_lexer": "ipython3",
   "version": "3.8.3"
  }
 },
 "nbformat": 4,
 "nbformat_minor": 4
}
