{
 "cells": [
  {
   "cell_type": "markdown",
   "metadata": {},
   "source": [
    "# Lab 4: Data analysis with Python\n",
    "In this lab you work on applying your new Python skills to work with data - finally!\n",
    "\n",
    "**This lab must be completed individually.**\n",
    "\n",
    "Where provided, try your best to match the **Sample Output** as best as you can.\n",
    "\n",
    "## Accept the lab\n",
    "\n",
    "To accept this lab on GitHub Classroom, ***LINK***"
   ]
  },
  {
   "cell_type": "markdown",
   "metadata": {},
   "source": [
    "## Objectives\n",
    "\n",
    "1. Practice Python functions\n",
    "2. Practice Python mathematical operations\n",
    "3. Practice importing and using the Pandas module\n",
    "4. Practice working with seaborn plots"
   ]
  },
  {
   "cell_type": "code",
   "execution_count": null,
   "metadata": {},
   "outputs": [],
   "source": [
    "# Usually all the import statements are at the top of the file\n",
    "\n",
    "import pandas as pd\n",
    "import seaborn as sns\n",
    "import numpy as np\n",
    "import os"
   ]
  },
  {
   "cell_type": "markdown",
   "metadata": {},
   "source": [
    "## A: Creating Functions (3 marks)\n",
    "\n",
    "In your projects, you may need to create your own functions to do some complex calculations (beyond mean, median etc...). In this question you will write a function to find the roots of a quadratic equation.\n",
    "\n",
    "To refresh your memory from high school math, a quadratic function looks like this:\n",
    "\n",
    "<img src=\"images/quadratic.png\" width=\"500px\">\n",
    "\n",
    "Given the standard form of a quadratic equation, $ax^2 + bx + c = 0$ where *a, b, c* are known real numbers and $a\\neq0$, the quadratic formula to find unknown $x$ is:\n",
    "$$x=\\frac{-b ± \\sqrt{b^2-4ac}}{2a}$$\n",
    "\n",
    "Write a python function that calculates and prints all possible real (i.e. non-complex) answers for $x$. \n",
    "\n",
    "Check your function by running it on some test data points:\n",
    "\n",
    "- `solution(1,1,1)`,\n",
    "- `solution(1,0,-4)`,\n",
    "- `solution(1,2,1)`. \n",
    "\n",
    "#### Sample Output\n",
    ">--> For a=1, b=1, and c=1:<br>\n",
    ">The equation does not have any real solution<br>\n",
    ">--> For a=1, b=0, and c=-4:<br>\n",
    ">x1 = 2.0 and x2 = -2.0<br>\n",
    ">--> For a=1, b=2, and c=1:<br>\n",
    ">x = -1.0<br>"
   ]
  },
  {
   "cell_type": "code",
   "execution_count": null,
   "metadata": {},
   "outputs": [],
   "source": [
    "def solution(a, b, c):\n",
    "    # Your solution here"
   ]
  },
  {
   "cell_type": "code",
   "execution_count": null,
   "metadata": {},
   "outputs": [],
   "source": [
    "solution(1,1,1)"
   ]
  },
  {
   "cell_type": "code",
   "execution_count": null,
   "metadata": {},
   "outputs": [],
   "source": [
    "solution(1,0,-4)"
   ]
  },
  {
   "cell_type": "code",
   "execution_count": null,
   "metadata": {},
   "outputs": [],
   "source": [
    "solution(1,2,1)"
   ]
  },
  {
   "cell_type": "markdown",
   "metadata": {},
   "source": [
    "## B: Functions (Total: 6 marks)\n",
    "\n",
    "Remember in lab 2, you used *tree* to show a map of all directories and files within a directory. \n",
    "In this section, we want to make a similar program, but using python instead. "
   ]
  },
  {
   "cell_type": "markdown",
   "metadata": {},
   "source": [
    "### B1. `ListFiles()` (2 marks): \n",
    "\n",
    "**Task: Your task is to create a python function called `ListFiles()` that takes in a directory path and then finds and print all the files (not directories) in a given directory (relative to `./`).**\n",
    "\n",
    "We suggest you use the [`listdir()` function](https://docs.python.org/3/library/os.html#os.listdir) and `isfile()` functions from the `os` module.\n",
    "\n",
    "In your GitHub repository, there is a folder called `directory_list` which contains some sample files. \n",
    "\n",
    "*Hint 1: don't forget to first `import os` to use `os.listdir()` and `os.path.isfile()`.*\n",
    "\n",
    "*Hint 2: You can see the following tutorials if you need some extra help or some worked examples: [link1](https://www.tutorialspoint.com/python/os_listdir.htm) and [link2](https://www.geeksforgeeks.org/python-os-path-isfile-method/)*.\n",
    "\n",
    "#### Sample Output\n",
    ">directory/file1.txt<br>\n",
    ">directory/file2.txt<br>\n",
    ">directory/file3.txt<br>\n",
    ">directory/file4.txt<br>"
   ]
  },
  {
   "cell_type": "code",
   "execution_count": null,
   "metadata": {},
   "outputs": [],
   "source": [
    "import os"
   ]
  },
  {
   "cell_type": "code",
   "execution_count": null,
   "metadata": {},
   "outputs": [],
   "source": [
    "def ListFiles(address):\n",
    "    # Your Solution here"
   ]
  },
  {
   "cell_type": "code",
   "execution_count": null,
   "metadata": {},
   "outputs": [],
   "source": [
    "ListFiles(\"directory_list\")"
   ]
  },
  {
   "cell_type": "markdown",
   "metadata": {},
   "source": [
    "### B2. `ListDirectories()` (2 marks): \n",
    "\n",
    "**Task: Use the `os.listdir()` and `os.path.isdir()` function to find and print all the directories (not files) in a given folder.\n",
    "Create a python function `ListDirectories(path)` that prints all the directories in that folder (and subfolders).***\n",
    "\n",
    "#### Sample Output (order does not matter)\n",
    "> directory_list/dir2/ <br>\n",
    "> directory_list/dir4/ <br>\n",
    "> directory_list/dir3/ <br>\n",
    "> directory_list/dir1/ <br>"
   ]
  },
  {
   "cell_type": "code",
   "execution_count": null,
   "metadata": {},
   "outputs": [],
   "source": [
    "def ListDirectories(address):\n",
    "    # Your Solution here"
   ]
  },
  {
   "cell_type": "code",
   "execution_count": null,
   "metadata": {},
   "outputs": [],
   "source": [
    "ListDirectories(\"directory_list\")"
   ]
  },
  {
   "cell_type": "markdown",
   "metadata": {},
   "source": [
    "### B3. `tree()` (2 marks): \n",
    "\n",
    "**Task: Write a function `tree(path)` that prints a map of all directories AND files within a directory.**\n",
    "\n",
    "*Hint: you can use the functions you created above, or you may use the [`os.walk()`](https://www.tutorialspoint.com/python/os_walk.htm) function to complete this task (there are many ways to do it). Another option is to use [glob](https://www.geeksforgeeks.org/how-to-use-glob-function-to-find-files-recursively-in-python/).* You can explore multiple solutions if you like.\n",
    "\n",
    "#### Sample Output\n",
    "> directory_list/file1.txt <br>\n",
    "> directory_list/file2.txt <br>\n",
    "> directory_list/file3.txt <br>\n",
    "> directory_list/file4.txt <br>\n",
    "> directory_list/dir1/ <br>\n",
    "> directory_list/dir1/file24.txt <br>\n",
    "> directory_list/dir1/file23.txt <br>\n",
    "> directory_list/dir2/ <br>\n",
    "> directory_list/dir2/file34.txt <br>\n",
    "> directory_list/dir3/ <br>\n",
    "> directory_list/dir3/file110.txt <br>\n",
    "> directory_list/dir3/file140.txt <br>\n",
    "> directory_list/dir3/file130.txt <br>\n",
    "> directory_list/dir3/file120.txt <br>\n",
    "> directory_list/dir4/ <br>\n",
    "> directory_list/dir4/file11.txt <br>\n",
    "> directory_list/dir4/file12.txt <br>\n",
    "> directory_list/dir4/file13.txt <br>\n",
    "> directory_list/dir4/file14.txt <br>"
   ]
  },
  {
   "cell_type": "code",
   "execution_count": null,
   "metadata": {},
   "outputs": [],
   "source": [
    "def tree(path):\n",
    "    # Your Solution here"
   ]
  },
  {
   "cell_type": "code",
   "execution_count": null,
   "metadata": {},
   "outputs": [],
   "source": [
    "# Test your function\n",
    "tree(\"directory_list\")"
   ]
  },
  {
   "cell_type": "markdown",
   "metadata": {},
   "source": [
    "## C: `numpy` (Total: 8 marks)\n",
    "\n",
    "In this section, we will practive using the `numpy` library.\n",
    "First, import the `numpy` library\n",
    "\n",
    "```\n",
    "import numpy as np\n",
    "```"
   ]
  },
  {
   "cell_type": "markdown",
   "metadata": {},
   "source": [
    "### C1. Create a vector (3 marks)\n",
    "\n",
    "**Task: Create an empty vector of size 10 filled with NaN.**\n",
    "\n",
    "*Hint: you need to use [`zeros()` method](https://numpy.org/doc/stable/reference/generated/numpy.zeros.html) or the [`empty()` method](https://numpy.org/doc/stable/reference/generated/numpy.empty.html?highlight=empty#numpy.empty)*"
   ]
  },
  {
   "cell_type": "code",
   "execution_count": null,
   "metadata": {},
   "outputs": [],
   "source": [
    "# Your Solution here"
   ]
  },
  {
   "cell_type": "markdown",
   "metadata": {},
   "source": [
    "### C2. Working with Vectors (2 marks)\n",
    "\n",
    "**Task: Create a random vector of size 10 and then find its mean, max, min, and sum value.**\n",
    "\n",
    "*Hint: for random vector you need to use `np.random.random()` and for the mean, max, min, sum you need to use build-in numpy methods `mean()`,`max()`,`min()`,`sum()`*.\n",
    "\n",
    "#### Sample output (Your numbers will be different)\n",
    "\n",
    ">[0.66698639 0.32937943 0.12074085 0.21788496 0.75628444 0.56461791\n",
    " 0.38162184 0.60966053 0.00491222 0.80007239]<br/>\n",
    ">The max is: 0.800<br/>\n",
    ">The min is: 0.005<br/>\n",
    ">The sum is: 4.452<br/>\n",
    ">The mean is: 0.445<br/>"
   ]
  },
  {
   "cell_type": "code",
   "execution_count": null,
   "metadata": {},
   "outputs": [],
   "source": [
    "# Your Solution here"
   ]
  },
  {
   "cell_type": "markdown",
   "metadata": {},
   "source": [
    "### C4. More vectors (3 marks)\n",
    "\n",
    "**Task: Using `numpy` Create a vector of size 15 which contains random values ranging from 10 to 90 and replace the minimum value with 100 and maximum value with 0. Print the mean, befor and after.**\n",
    "\n",
    "*Hint: you may need to use `argmax()` and `argmin()`. \n",
    "Documentation for that can be found [here](https://numpy.org/doc/stable/reference/generated/numpy.argmax.html).*\n",
    "\n",
    "\n",
    "##### Sample output\n",
    ">before: [20 27 10 63 57 71 50 18 76 56 38 62 10  9 12]<br>\n",
    ">mean: 38.6<br>\n",
    ">after: [ 20  27  10  63  57  71  50  18 100  56  38  62  10   9  12]<br>\n",
    ">mean: 40.2<br>"
   ]
  },
  {
   "cell_type": "code",
   "execution_count": null,
   "metadata": {},
   "outputs": [],
   "source": [
    "# Your Solution here"
   ]
  },
  {
   "cell_type": "markdown",
   "metadata": {},
   "source": [
    "## D. Plotting using Seaborn (and matplotlib) (Total: 16 marks)\n",
    "\n",
    "`matplotlib` is a Python library for data visualization. \n",
    "`seaborn` is a statistical data visualization library layer that provides a high-level interface for drawing statistical graphics and some convenient functions for plotting data frames.\n",
    "\n",
    "You may need to install `seaborn` and `matplotlib`\n",
    "\n",
    "`conda install seaborn`<br>\n",
    "`conda install matplotlib`\n",
    "\n",
    "and just in case it's not the latest version, go ahead and update it:\n",
    "\n",
    "`conda update matplotlib`<br>\n",
    "`conda update seaborn`\n",
    "\n"
   ]
  },
  {
   "cell_type": "code",
   "execution_count": null,
   "metadata": {},
   "outputs": [],
   "source": [
    "import matplotlib.pyplot as plt\n",
    "import seaborn as sns\n",
    "\n",
    "# There are five preset seaborn themes: darkgrid, whitegrid, dark, white, and ticks. \n",
    "# They are each suited to different applications and personal preferences.\n",
    "# You can see what they look like [here](https://seaborn.pydata.org/tutorial/aesthetics.html#seaborn-figure-styles)\n",
    "\n",
    "# Just for fun, we're going to set the theme to be a nice one:\n",
    "sns.set_theme(style=\"ticks\",\n",
    "              font_scale=1.3, # This scales the fonts slightly higher\n",
    "             )\n",
    "# And we're going to remove the top and right axis lines\n",
    "plt.rc(\"axes.spines\", top=False, right=False)"
   ]
  },
  {
   "cell_type": "markdown",
   "metadata": {},
   "source": [
    "### D1. Load data (1 mark)\n",
    "\n",
    "Without downloading the csv file to your repo, load the \"*BCCDC_COVID19.csv*\" file using the direct URL: \"http://www.bccdc.ca/Health-Info-Site/Documents/BCCDC_COVID19_Dashboard_Case_Details.csv\".\n",
    "\n",
    "**DO NOT DOWNLOAD THE DATA TO YOUR REPOSITORY!**\n",
    "\n",
    "Use `pandas` module/package and the `read_csv()` function to load the data by passing in the URL and then save the data in a variable called `df`."
   ]
  },
  {
   "cell_type": "code",
   "execution_count": null,
   "metadata": {},
   "outputs": [],
   "source": [
    "# Your Solution here"
   ]
  },
  {
   "cell_type": "markdown",
   "metadata": {},
   "source": [
    "### D2. Counts of cases by Sex (2 marks)\n",
    "Using [`sns.countplot()`](https://seaborn.pydata.org/generated/seaborn.countplot.html?highlight=countplot#seaborn.countplot), plot the number of all female and male cases. \n",
    "\n",
    "Set the title to be \"Number of COVID-19 cases by Sex\". \n",
    "\n",
    "*Hint: The documentation above contains some examples that might help you get started*\n",
    "#### Sample output\n",
    "<img src=\"./images/bar1.png\" width=\"400px\" />"
   ]
  },
  {
   "cell_type": "code",
   "execution_count": null,
   "metadata": {},
   "outputs": [],
   "source": [
    "# Your Solution here"
   ]
  },
  {
   "cell_type": "markdown",
   "metadata": {},
   "source": [
    "### D3. Counts of cases by Age Group (2 marks)\n",
    "\n",
    "Plot the counts of cases by age group, and order the y-axis by increasing age (use the `order` parameter of the `countplot()` function).\n",
    "\n",
    "<img src=\"images/bar_age.png\" width=\"400px\">"
   ]
  },
  {
   "cell_type": "code",
   "execution_count": null,
   "metadata": {},
   "outputs": [],
   "source": [
    "# Your Solution here"
   ]
  },
  {
   "cell_type": "markdown",
   "metadata": {},
   "source": [
    "### D4. Cases by regional health authority (3 marks)\n",
    "\n",
    "Using `set()` data type, find the all the different regions in `df['HA']`. In the next step, calculate the count of all cases in each of those regions. Finally, using [`plt.barh`](https://matplotlib.org/3.1.1/api/_as_gen/matplotlib.pyplot.barh.html), plot a horizontal bar chart of number of cases based on their regions.\n",
    "\n",
    "*Hint: More information and examples can be find in [link](https://www.geeksforgeeks.org/matplotlib-axes-axes-barh-in-python/)*\n",
    "\n",
    "*Hint: Your plot doesn't have to look exactly like this, but please do explore the [possible color palettes](https://seaborn.pydata.org/tutorial/color_palettes.html). You can specify the colour palette by passing in the keyword like this: `palette='colorblind'`.*\n",
    "\n",
    "#### Sample output\n",
    "<img src=\"images/hbar.png\" width=\"400px\" />"
   ]
  },
  {
   "cell_type": "code",
   "execution_count": null,
   "metadata": {},
   "outputs": [],
   "source": [
    "# Your solution here"
   ]
  },
  {
   "cell_type": "markdown",
   "metadata": {},
   "source": [
    "### D5. Data Wrangling I (2 marks)\n",
    "\n",
    "**Task: Add a new column to the dataframe to convert the \"Reported_Date\" column to a datetime object**\n",
    "\n",
    "To do this, first we need to add a new column to our dataset to turn the column \"Reported_Date\" into a proper datetime object so we can do operations on it.\n",
    "\n",
    "*Hint: Use to [to_datetime()](https://pandas.pydata.org/pandas-docs/stable/reference/api/pandas.to_datetime.html) function to help you first convert it into a datetime object, and then remove the timezone information and HH:MM:SS using [`.dt.date`](https://pandas.pydata.org/pandas-docs/stable/reference/api/pandas.Series.dt.date.html).*"
   ]
  },
  {
   "cell_type": "code",
   "execution_count": null,
   "metadata": {},
   "outputs": [],
   "source": [
    "# Your Solution here"
   ]
  },
  {
   "cell_type": "markdown",
   "metadata": {},
   "source": [
    "### D6. Data Wrangling II (1 mark)\n",
    "\n",
    "**Task: Find the earliest reported case and the latest reported case of COVID-19 in the dataset**\n",
    "\n",
    "You should use the pandas .min() and .max() functions here, now that your date string is converted to a DateTime object.\n",
    "\n",
    "#### Sample Output\n",
    "\n",
    "> The earliest reported case of COVID-19 was: 2020-01-26 <br>\n",
    "> The latest reported case of COVID-19 was: 2020-10-23 <br>"
   ]
  },
  {
   "cell_type": "code",
   "execution_count": null,
   "metadata": {},
   "outputs": [],
   "source": [
    "# Your Solution here"
   ]
  },
  {
   "cell_type": "markdown",
   "metadata": {},
   "source": [
    "### D7. Data Wrangling III (2 marks)\n",
    "\n",
    "**Task: Create a new column in the data frame called \"days_since\".**\n",
    "\n",
    "This column will be of type integer, and will simply show the days since the first reported case of COVID-19.\n",
    "\n",
    "*Hint: Subtracting the earliest reported date from the `Reported_Date_Object` column will get you most of the way there. After that, the only thing left to is to turn the result (a datetime object) into an integer using [`.dt.days`](https://pandas.pydata.org/pandas-docs/stable/reference/api/pandas.Series.dt.days.html?highlight=dt.days#pandas.Series.dt.days).*"
   ]
  },
  {
   "cell_type": "code",
   "execution_count": null,
   "metadata": {},
   "outputs": [],
   "source": [
    "# Your Solution here"
   ]
  },
  {
   "cell_type": "markdown",
   "metadata": {},
   "source": [
    "### D8. Plot the COVID-19 cases plotted over time by sex (3 mark)\n",
    "\n",
    "Using `sns.displot`, plot the histogram of females and males cases over time.\n",
    "\n",
    "*Hint 1: [Here is a nice tutorial](https://seaborn.pydata.org/tutorial/distributions.html) of all the different options that are possible when creating a histogram.*\n",
    "\n",
    "#### Sample output\n",
    "<img src=\"images/hist.png\" width=\"600px\">"
   ]
  },
  {
   "cell_type": "code",
   "execution_count": null,
   "metadata": {},
   "outputs": [],
   "source": [
    "# Your Solution here "
   ]
  },
  {
   "cell_type": "markdown",
   "metadata": {},
   "source": [
    "### D8. BONUS - For a bonus mark, move the legend to the top left of the plot (1 mark)"
   ]
  },
  {
   "cell_type": "code",
   "execution_count": null,
   "metadata": {},
   "outputs": [],
   "source": [
    "# Your Solution here"
   ]
  },
  {
   "cell_type": "markdown",
   "metadata": {},
   "source": [
    "### D8. BONUS - For a bonus mark, order the Health authorities on the y-axis (1 mark)\n",
    "\n",
    "You can order it by some metric (either alphabetically, or by total counts, or some other sensible metric)"
   ]
  }
 ],
 "metadata": {
  "kernelspec": {
   "display_name": "Python 3",
   "language": "python",
   "name": "python3"
  },
  "language_info": {
   "codemirror_mode": {
    "name": "ipython",
    "version": 3
   },
   "file_extension": ".py",
   "mimetype": "text/x-python",
   "name": "python",
   "nbconvert_exporter": "python",
   "pygments_lexer": "ipython3",
   "version": "3.8.3"
  }
 },
 "nbformat": 4,
 "nbformat_minor": 4
}
